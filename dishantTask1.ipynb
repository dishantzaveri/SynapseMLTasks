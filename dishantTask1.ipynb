{
  "nbformat": 4,
  "nbformat_minor": 0,
  "metadata": {
    "colab": {
      "name": "dishantTask1.ipynb",
      "provenance": [],
      "collapsed_sections": [],
      "include_colab_link": true
    },
    "kernelspec": {
      "name": "python3",
      "display_name": "Python 3"
    },
    "language_info": {
      "name": "python"
    }
  },
  "cells": [
    {
      "cell_type": "markdown",
      "metadata": {
        "id": "view-in-github",
        "colab_type": "text"
      },
      "source": [
        "<a href=\"https://colab.research.google.com/github/dishantzaveri/SynapseMLTasks/blob/main/dishantTask1.ipynb\" target=\"_parent\"><img src=\"https://colab.research.google.com/assets/colab-badge.svg\" alt=\"Open In Colab\"/></a>"
      ]
    },
    {
      "cell_type": "markdown",
      "metadata": {
        "id": "C8KlsCFL1tvs"
      },
      "source": [
        "# Task 1\n",
        "#### Week 1 (Learning Period Synapse)\n",
        "###### pandas, numpy, matplotlib"
      ]
    },
    {
      "cell_type": "code",
      "metadata": {
        "colab": {
          "base_uri": "https://localhost:8080/"
        },
        "id": "wcGii-p723dl",
        "outputId": "17c56f5b-c926-4789-e596-cc02f66b01a1"
      },
      "source": [
        "from google.colab import drive\n",
        "drive.mount(\"/content/gdrive\")"
      ],
      "execution_count": 341,
      "outputs": [
        {
          "output_type": "stream",
          "name": "stdout",
          "text": [
            "Drive already mounted at /content/gdrive; to attempt to forcibly remount, call drive.mount(\"/content/gdrive\", force_remount=True).\n"
          ]
        }
      ]
    },
    {
      "cell_type": "code",
      "metadata": {
        "id": "m6HJFwYI9U55"
      },
      "source": [
        ""
      ],
      "execution_count": 341,
      "outputs": []
    },
    {
      "cell_type": "markdown",
      "metadata": {
        "id": "2ufinDlF2oH7"
      },
      "source": [
        "## 1. Import pandas, numpy and matplotlib"
      ]
    },
    {
      "cell_type": "code",
      "metadata": {
        "id": "V0KqGm1I2mx6"
      },
      "source": [
        "import pandas as pd\n",
        "import numpy as np\n",
        "import matplotlib.pyplot as plt\n"
      ],
      "execution_count": 342,
      "outputs": []
    },
    {
      "cell_type": "code",
      "metadata": {
        "id": "P0xumbaX27tR"
      },
      "source": [
        ""
      ],
      "execution_count": 342,
      "outputs": []
    },
    {
      "cell_type": "markdown",
      "metadata": {
        "id": "5dFTZvpm28n7"
      },
      "source": [
        "## 2. load the data \n",
        "<br> load the titanic dataset in a pandas dataframe <br> (download dataset from https://www.kaggle.com/c/titanic/data and store it in a folder called <b>\"syanpse_w1\"</b> in the root of your drive) <br>\n",
        "Note that you have to download the train and test csv files seperately"
      ]
    },
    {
      "cell_type": "code",
      "metadata": {
        "id": "mY_Fol-u1qmi"
      },
      "source": [
        "train_path = \"/content/gdrive/My Drive/synapse_w1/train.csv\"\n",
        "test_path = \"/content/gdrive/My Drive/synapse_w1/test.csv\"\n",
        "\n",
        "\n",
        "train_df = pd.read_csv(train_path)\n",
        "test_df = pd.read_csv(test_path)"
      ],
      "execution_count": 343,
      "outputs": []
    },
    {
      "cell_type": "code",
      "metadata": {
        "id": "loyfFwFK1s6-",
        "colab": {
          "base_uri": "https://localhost:8080/"
        },
        "outputId": "c3ee4a4f-5597-42a2-9c7e-31d4f3789ffc"
      },
      "source": [
        "train_df_first_5 = train_df.head(5)\n",
        "print(train_df_first_5)\n"
      ],
      "execution_count": 344,
      "outputs": [
        {
          "output_type": "stream",
          "name": "stdout",
          "text": [
            "   PassengerId  Survived  Pclass  ...     Fare Cabin  Embarked\n",
            "0            1         0       3  ...   7.2500   NaN         S\n",
            "1            2         1       1  ...  71.2833   C85         C\n",
            "2            3         1       3  ...   7.9250   NaN         S\n",
            "3            4         1       1  ...  53.1000  C123         S\n",
            "4            5         0       3  ...   8.0500   NaN         S\n",
            "\n",
            "[5 rows x 12 columns]\n"
          ]
        }
      ]
    },
    {
      "cell_type": "code",
      "metadata": {
        "id": "d21HPJDrHFOk",
        "colab": {
          "base_uri": "https://localhost:8080/"
        },
        "outputId": "1b0166ba-9436-440d-c336-334dc8825666"
      },
      "source": [
        "test_df_first_5 = test_df.head(5)\n",
        "print(test_df_first_5)"
      ],
      "execution_count": 345,
      "outputs": [
        {
          "output_type": "stream",
          "name": "stdout",
          "text": [
            "   PassengerId  Pclass  ... Cabin Embarked\n",
            "0          892       3  ...   NaN        Q\n",
            "1          893       3  ...   NaN        S\n",
            "2          894       2  ...   NaN        Q\n",
            "3          895       3  ...   NaN        S\n",
            "4          896       3  ...   NaN        S\n",
            "\n",
            "[5 rows x 11 columns]\n"
          ]
        }
      ]
    },
    {
      "cell_type": "markdown",
      "metadata": {
        "id": "eAe9H4ub-9TB"
      },
      "source": [
        "## 3. Exploratory Data Analysis\n",
        "Exploratory data analysis is a very important part of ML as it helps you understand the data you are dealing with <br>\n",
        "<br>\n",
        "(we will be working on the train dataframe in this task)"
      ]
    },
    {
      "cell_type": "markdown",
      "metadata": {
        "id": "7n5NzvIOAH1G"
      },
      "source": [
        "### 3.a. overview of the dataset"
      ]
    },
    {
      "cell_type": "markdown",
      "metadata": {
        "id": "dIl7EiGEBjPL"
      },
      "source": [
        " - write code to list the columns in your dataframe (each column on new line as visibility is important)"
      ]
    },
    {
      "cell_type": "code",
      "metadata": {
        "id": "jgGpmmk4BNpf",
        "colab": {
          "base_uri": "https://localhost:8080/"
        },
        "outputId": "f70fc106-045c-43df-f768-1e63498125b2"
      },
      "source": [
        "for col in train_df:\n",
        "    print(col)"
      ],
      "execution_count": 346,
      "outputs": [
        {
          "output_type": "stream",
          "name": "stdout",
          "text": [
            "PassengerId\n",
            "Survived\n",
            "Pclass\n",
            "Name\n",
            "Sex\n",
            "Age\n",
            "SibSp\n",
            "Parch\n",
            "Ticket\n",
            "Fare\n",
            "Cabin\n",
            "Embarked\n"
          ]
        }
      ]
    },
    {
      "cell_type": "markdown",
      "metadata": {
        "id": "BbtlcScEBkwG"
      },
      "source": [
        " - write a function that returns the number of rows and columns in the dataset "
      ]
    },
    {
      "cell_type": "code",
      "metadata": {
        "id": "huYZDIdW87BM",
        "colab": {
          "base_uri": "https://localhost:8080/"
        },
        "outputId": "3e3621b1-f481-498b-dbb8-c72406445139"
      },
      "source": [
        "rows = len(train_df.axes[0])\n",
        "cols = len(train_df.axes[1])\n",
        "  \n",
        "# Print the number of rows and columns\n",
        "print(\"Number of Rows: \" + str(rows))\n",
        "print(\"Number of Columns: \" + str(cols))"
      ],
      "execution_count": 347,
      "outputs": [
        {
          "output_type": "stream",
          "name": "stdout",
          "text": [
            "Number of Rows: 891\n",
            "Number of Columns: 12\n"
          ]
        }
      ]
    },
    {
      "cell_type": "markdown",
      "metadata": {
        "id": "tFWvBxGvCR5M"
      },
      "source": [
        " - use the info() method of pandas dataframe to print the info related to the dataframe"
      ]
    },
    {
      "cell_type": "code",
      "metadata": {
        "id": "oDGygTjuAhtf",
        "colab": {
          "base_uri": "https://localhost:8080/"
        },
        "outputId": "353d9609-b11c-415f-b215-f02e1d200afe"
      },
      "source": [
        "train_df.info(verbose=True)"
      ],
      "execution_count": 348,
      "outputs": [
        {
          "output_type": "stream",
          "name": "stdout",
          "text": [
            "<class 'pandas.core.frame.DataFrame'>\n",
            "RangeIndex: 891 entries, 0 to 890\n",
            "Data columns (total 12 columns):\n",
            " #   Column       Non-Null Count  Dtype  \n",
            "---  ------       --------------  -----  \n",
            " 0   PassengerId  891 non-null    int64  \n",
            " 1   Survived     891 non-null    int64  \n",
            " 2   Pclass       891 non-null    int64  \n",
            " 3   Name         891 non-null    object \n",
            " 4   Sex          891 non-null    object \n",
            " 5   Age          714 non-null    float64\n",
            " 6   SibSp        891 non-null    int64  \n",
            " 7   Parch        891 non-null    int64  \n",
            " 8   Ticket       891 non-null    object \n",
            " 9   Fare         891 non-null    float64\n",
            " 10  Cabin        204 non-null    object \n",
            " 11  Embarked     889 non-null    object \n",
            "dtypes: float64(2), int64(5), object(5)\n",
            "memory usage: 83.7+ KB\n"
          ]
        }
      ]
    },
    {
      "cell_type": "markdown",
      "metadata": {
        "id": "JtEy2fQuCfic"
      },
      "source": [
        " - use the describe() method of pandas dataframe to print the statistical description of the dataset"
      ]
    },
    {
      "cell_type": "code",
      "metadata": {
        "id": "HmAzuSpcCfAC",
        "colab": {
          "base_uri": "https://localhost:8080/",
          "height": 300
        },
        "outputId": "b14c09f6-73e3-47ab-d26e-3ba734c52ab6"
      },
      "source": [
        "desc = train_df.describe()\n",
        "desc"
      ],
      "execution_count": 349,
      "outputs": [
        {
          "output_type": "execute_result",
          "data": {
            "text/html": [
              "<div>\n",
              "<style scoped>\n",
              "    .dataframe tbody tr th:only-of-type {\n",
              "        vertical-align: middle;\n",
              "    }\n",
              "\n",
              "    .dataframe tbody tr th {\n",
              "        vertical-align: top;\n",
              "    }\n",
              "\n",
              "    .dataframe thead th {\n",
              "        text-align: right;\n",
              "    }\n",
              "</style>\n",
              "<table border=\"1\" class=\"dataframe\">\n",
              "  <thead>\n",
              "    <tr style=\"text-align: right;\">\n",
              "      <th></th>\n",
              "      <th>PassengerId</th>\n",
              "      <th>Survived</th>\n",
              "      <th>Pclass</th>\n",
              "      <th>Age</th>\n",
              "      <th>SibSp</th>\n",
              "      <th>Parch</th>\n",
              "      <th>Fare</th>\n",
              "    </tr>\n",
              "  </thead>\n",
              "  <tbody>\n",
              "    <tr>\n",
              "      <th>count</th>\n",
              "      <td>891.000000</td>\n",
              "      <td>891.000000</td>\n",
              "      <td>891.000000</td>\n",
              "      <td>714.000000</td>\n",
              "      <td>891.000000</td>\n",
              "      <td>891.000000</td>\n",
              "      <td>891.000000</td>\n",
              "    </tr>\n",
              "    <tr>\n",
              "      <th>mean</th>\n",
              "      <td>446.000000</td>\n",
              "      <td>0.383838</td>\n",
              "      <td>2.308642</td>\n",
              "      <td>29.699118</td>\n",
              "      <td>0.523008</td>\n",
              "      <td>0.381594</td>\n",
              "      <td>32.204208</td>\n",
              "    </tr>\n",
              "    <tr>\n",
              "      <th>std</th>\n",
              "      <td>257.353842</td>\n",
              "      <td>0.486592</td>\n",
              "      <td>0.836071</td>\n",
              "      <td>14.526497</td>\n",
              "      <td>1.102743</td>\n",
              "      <td>0.806057</td>\n",
              "      <td>49.693429</td>\n",
              "    </tr>\n",
              "    <tr>\n",
              "      <th>min</th>\n",
              "      <td>1.000000</td>\n",
              "      <td>0.000000</td>\n",
              "      <td>1.000000</td>\n",
              "      <td>0.420000</td>\n",
              "      <td>0.000000</td>\n",
              "      <td>0.000000</td>\n",
              "      <td>0.000000</td>\n",
              "    </tr>\n",
              "    <tr>\n",
              "      <th>25%</th>\n",
              "      <td>223.500000</td>\n",
              "      <td>0.000000</td>\n",
              "      <td>2.000000</td>\n",
              "      <td>20.125000</td>\n",
              "      <td>0.000000</td>\n",
              "      <td>0.000000</td>\n",
              "      <td>7.910400</td>\n",
              "    </tr>\n",
              "    <tr>\n",
              "      <th>50%</th>\n",
              "      <td>446.000000</td>\n",
              "      <td>0.000000</td>\n",
              "      <td>3.000000</td>\n",
              "      <td>28.000000</td>\n",
              "      <td>0.000000</td>\n",
              "      <td>0.000000</td>\n",
              "      <td>14.454200</td>\n",
              "    </tr>\n",
              "    <tr>\n",
              "      <th>75%</th>\n",
              "      <td>668.500000</td>\n",
              "      <td>1.000000</td>\n",
              "      <td>3.000000</td>\n",
              "      <td>38.000000</td>\n",
              "      <td>1.000000</td>\n",
              "      <td>0.000000</td>\n",
              "      <td>31.000000</td>\n",
              "    </tr>\n",
              "    <tr>\n",
              "      <th>max</th>\n",
              "      <td>891.000000</td>\n",
              "      <td>1.000000</td>\n",
              "      <td>3.000000</td>\n",
              "      <td>80.000000</td>\n",
              "      <td>8.000000</td>\n",
              "      <td>6.000000</td>\n",
              "      <td>512.329200</td>\n",
              "    </tr>\n",
              "  </tbody>\n",
              "</table>\n",
              "</div>"
            ],
            "text/plain": [
              "       PassengerId    Survived      Pclass  ...       SibSp       Parch        Fare\n",
              "count   891.000000  891.000000  891.000000  ...  891.000000  891.000000  891.000000\n",
              "mean    446.000000    0.383838    2.308642  ...    0.523008    0.381594   32.204208\n",
              "std     257.353842    0.486592    0.836071  ...    1.102743    0.806057   49.693429\n",
              "min       1.000000    0.000000    1.000000  ...    0.000000    0.000000    0.000000\n",
              "25%     223.500000    0.000000    2.000000  ...    0.000000    0.000000    7.910400\n",
              "50%     446.000000    0.000000    3.000000  ...    0.000000    0.000000   14.454200\n",
              "75%     668.500000    1.000000    3.000000  ...    1.000000    0.000000   31.000000\n",
              "max     891.000000    1.000000    3.000000  ...    8.000000    6.000000  512.329200\n",
              "\n",
              "[8 rows x 7 columns]"
            ]
          },
          "metadata": {},
          "execution_count": 349
        }
      ]
    },
    {
      "cell_type": "markdown",
      "metadata": {
        "id": "A9e7GcsJC_ww"
      },
      "source": [
        " - Find all columns that have unique values. (example : the Gender column has 2 unique values Male and Female) <br>\n",
        "\n",
        " - if the columns have finite unique values, then add them in a dictionary of lists and print it <br>\n",
        "<br>\n",
        "dictionary should look like : <br>\n",
        "<t>{<br>&nbsp;&nbsp; \"Gender\" : [\"Male\", \"Female\"],<br>&nbsp;&nbsp; \"Col2\" : [\"unique1\", \"unique2\"],<br>&nbsp;&nbsp;&nbsp;&nbsp;.<br>&nbsp;&nbsp;&nbsp;&nbsp;.<br>&nbsp;&nbsp;&nbsp;&nbsp;.<br>}"
      ]
    },
    {
      "cell_type": "code",
      "metadata": {
        "id": "SvWOT_pKDbdu",
        "colab": {
          "base_uri": "https://localhost:8080/"
        },
        "outputId": "3e23cc1d-668a-40ed-c99d-4c0600fc4905"
      },
      "source": [
        "print(\"Survived:\",  train_df.Survived.unique())\n",
        "print(\"Pclass:\",  train_df.Pclass.unique())\n",
        "print(\"Sex:\",  train_df.Sex.unique())\n",
        "print(\"SibSp:\",  train_df.SibSp.unique())\n",
        "print(\"Parch:\",  train_df.Parch.unique())\n",
        "print(\"Embarked:\",  train_df.Embarked.unique())"
      ],
      "execution_count": 350,
      "outputs": [
        {
          "output_type": "stream",
          "name": "stdout",
          "text": [
            "Survived: [0 1]\n",
            "Pclass: [3 1 2]\n",
            "Sex: ['male' 'female']\n",
            "SibSp: [1 0 3 4 2 5 8]\n",
            "Parch: [0 1 2 5 3 4 6]\n",
            "Embarked: ['S' 'C' 'Q' nan]\n"
          ]
        }
      ]
    },
    {
      "cell_type": "code",
      "metadata": {
        "id": "CBMXRkJTHyWL"
      },
      "source": [
        ""
      ],
      "execution_count": 350,
      "outputs": []
    },
    {
      "cell_type": "markdown",
      "metadata": {
        "id": "V1OdlEqXHzMC"
      },
      "source": [
        "### 3.b. Visualizing hidden Details"
      ]
    },
    {
      "cell_type": "markdown",
      "metadata": {
        "id": "De37jtciIY7F"
      },
      "source": [
        "##### Aim is to find relationship between Title and Survival rate\n",
        "- print the <b>name</b> column of the data<br>\n",
        "- notice that the word after the first comma encapsulates the title of the person (Mr., Mrs, etc)\n",
        "- extract the title using regular expression (help given below in the code)\n",
        "- store the title in a new column in the dataframe. Name the column : <b>Title</b>"
      ]
    },
    {
      "cell_type": "code",
      "metadata": {
        "id": "URnLEQP-EsXA",
        "colab": {
          "base_uri": "https://localhost:8080/"
        },
        "outputId": "aa509e5f-e381-44c8-d4b4-9e5e25753346"
      },
      "source": [
        "train_df['Name']\n",
        "\n",
        "\n"
      ],
      "execution_count": 351,
      "outputs": [
        {
          "output_type": "execute_result",
          "data": {
            "text/plain": [
              "0                                Braund, Mr. Owen Harris\n",
              "1      Cumings, Mrs. John Bradley (Florence Briggs Th...\n",
              "2                                 Heikkinen, Miss. Laina\n",
              "3           Futrelle, Mrs. Jacques Heath (Lily May Peel)\n",
              "4                               Allen, Mr. William Henry\n",
              "                             ...                        \n",
              "886                                Montvila, Rev. Juozas\n",
              "887                         Graham, Miss. Margaret Edith\n",
              "888             Johnston, Miss. Catherine Helen \"Carrie\"\n",
              "889                                Behr, Mr. Karl Howell\n",
              "890                                  Dooley, Mr. Patrick\n",
              "Name: Name, Length: 891, dtype: object"
            ]
          },
          "metadata": {},
          "execution_count": 351
        }
      ]
    },
    {
      "cell_type": "code",
      "metadata": {
        "colab": {
          "base_uri": "https://localhost:8080/"
        },
        "id": "X62p2RoZIp6U",
        "outputId": "808a0c19-fe8f-4ba1-96d1-8794d6936710"
      },
      "source": [
        "import re\n",
        "title=[]\n",
        "name_eg=train_df[\"Name\"]\n",
        "for i in name_eg:\n",
        "  title_search=re.search('(\\w+)\\.',i)\n",
        "  if title_search:\n",
        "    title.append(title_search.group(1))\n",
        "print(title)"
      ],
      "execution_count": 352,
      "outputs": [
        {
          "output_type": "stream",
          "name": "stdout",
          "text": [
            "['Mr', 'Mrs', 'Miss', 'Mrs', 'Mr', 'Mr', 'Mr', 'Master', 'Mrs', 'Mrs', 'Miss', 'Miss', 'Mr', 'Mr', 'Miss', 'Mrs', 'Master', 'Mr', 'Mrs', 'Mrs', 'Mr', 'Mr', 'Miss', 'Mr', 'Miss', 'Mrs', 'Mr', 'Mr', 'Miss', 'Mr', 'Don', 'Mrs', 'Miss', 'Mr', 'Mr', 'Mr', 'Mr', 'Mr', 'Miss', 'Miss', 'Mrs', 'Mrs', 'Mr', 'Miss', 'Miss', 'Mr', 'Mr', 'Miss', 'Mr', 'Mrs', 'Master', 'Mr', 'Mrs', 'Mrs', 'Mr', 'Mr', 'Miss', 'Mr', 'Miss', 'Master', 'Mr', 'Miss', 'Mr', 'Master', 'Mr', 'Master', 'Mrs', 'Mr', 'Miss', 'Mr', 'Mr', 'Miss', 'Mr', 'Mr', 'Mr', 'Mr', 'Mr', 'Mr', 'Master', 'Miss', 'Mr', 'Mr', 'Miss', 'Mr', 'Miss', 'Mrs', 'Mr', 'Mr', 'Miss', 'Mr', 'Mr', 'Mr', 'Mr', 'Mr', 'Mr', 'Mr', 'Mr', 'Mr', 'Mrs', 'Mr', 'Miss', 'Mr', 'Mr', 'Mr', 'Mr', 'Mr', 'Miss', 'Mr', 'Mr', 'Miss', 'Mr', 'Miss', 'Mr', 'Miss', 'Miss', 'Mr', 'Mr', 'Mr', 'Mr', 'Miss', 'Mr', 'Mr', 'Mr', 'Miss', 'Mr', 'Master', 'Mr', 'Mr', 'Miss', 'Mr', 'Mr', 'Mr', 'Mrs', 'Mrs', 'Mr', 'Mr', 'Miss', 'Mr', 'Mr', 'Mr', 'Mrs', 'Miss', 'Mrs', 'Mr', 'Mr', 'Mr', 'Mr', 'Miss', 'Mr', 'Rev', 'Rev', 'Mrs', 'Mr', 'Mr', 'Mr', 'Mr', 'Miss', 'Mr', 'Mr', 'Master', 'Mr', 'Mrs', 'Mr', 'Mr', 'Master', 'Master', 'Mrs', 'Mrs', 'Mr', 'Mr', 'Mr', 'Master', 'Miss', 'Mr', 'Mr', 'Mr', 'Master', 'Miss', 'Mr', 'Mr', 'Miss', 'Mr', 'Master', 'Master', 'Miss', 'Mr', 'Mrs', 'Mr', 'Mr', 'Mr', 'Mrs', 'Mr', 'Miss', 'Master', 'Mrs', 'Miss', 'Mr', 'Mr', 'Miss', 'Miss', 'Mr', 'Mr', 'Mr', 'Mr', 'Mr', 'Miss', 'Mr', 'Mr', 'Miss', 'Mr', 'Mr', 'Miss', 'Mr', 'Mr', 'Mr', 'Miss', 'Miss', 'Mr', 'Miss', 'Mr', 'Mr', 'Mr', 'Mr', 'Mr', 'Mr', 'Mr', 'Mr', 'Mr', 'Mr', 'Miss', 'Mrs', 'Mr', 'Mr', 'Miss', 'Mr', 'Miss', 'Mr', 'Miss', 'Mr', 'Mr', 'Miss', 'Miss', 'Mr', 'Mr', 'Mr', 'Dr', 'Miss', 'Mrs', 'Mr', 'Rev', 'Mr', 'Mrs', 'Mr', 'Mr', 'Mrs', 'Mrs', 'Mrs', 'Miss', 'Miss', 'Mrs', 'Mr', 'Master', 'Mr', 'Mr', 'Miss', 'Mr', 'Mr', 'Mr', 'Mrs', 'Miss', 'Mr', 'Mr', 'Mrs', 'Mr', 'Miss', 'Miss', 'Miss', 'Mr', 'Master', 'Mrs', 'Mr', 'Mr', 'Mr', 'Mr', 'Mr', 'Mr', 'Mr', 'Mr', 'Mr', 'Miss', 'Miss', 'Mrs', 'Mr', 'Miss', 'Mr', 'Mr', 'Mr', 'Miss', 'Mr', 'Mrs', 'Miss', 'Mr', 'Mr', 'Miss', 'Mr', 'Master', 'Miss', 'Mrs', 'Mr', 'Miss', 'Miss', 'Miss', 'Mrs', 'Mr', 'Mr', 'Miss', 'Mrs', 'Dr', 'Miss', 'Mrs', 'Mr', 'Mr', 'Miss', 'Mrs', 'Mr', 'Miss', 'Mr', 'Mrs', 'Mrs', 'Miss', 'Miss', 'Mr', 'Mr', 'Mr', 'Mrs', 'Mr', 'Mr', 'Miss', 'Mr', 'Mr', 'Master', 'Miss', 'Mr', 'Mr', 'Mr', 'Miss', 'Miss', 'Mrs', 'Master', 'Mr', 'Mr', 'Mr', 'Mr', 'Mr', 'Mr', 'Mr', 'Miss', 'Miss', 'Miss', 'Miss', 'Mr', 'Mr', 'Mrs', 'Mr', 'Mr', 'Mr', 'Mrs', 'Mrs', 'Miss', 'Mme', 'Mr', 'Mr', 'Mr', 'Mr', 'Miss', 'Mrs', 'Miss', 'Mr', 'Mr', 'Mr', 'Miss', 'Miss', 'Mr', 'Mrs', 'Mr', 'Mr', 'Master', 'Miss', 'Mr', 'Miss', 'Mr', 'Mr', 'Mr', 'Miss', 'Mrs', 'Mr', 'Miss', 'Mr', 'Dr', 'Mrs', 'Mr', 'Mr', 'Miss', 'Mr', 'Miss', 'Mr', 'Mr', 'Master', 'Mr', 'Miss', 'Mr', 'Mr', 'Miss', 'Mr', 'Mr', 'Mrs', 'Mrs', 'Miss', 'Mr', 'Miss', 'Mr', 'Mr', 'Mr', 'Mrs', 'Mr', 'Mr', 'Mrs', 'Miss', 'Mr', 'Mr', 'Mr', 'Mrs', 'Mrs', 'Mr', 'Mr', 'Miss', 'Miss', 'Mrs', 'Mr', 'Mr', 'Mrs', 'Mr', 'Mr', 'Ms', 'Mr', 'Master', 'Miss', 'Mr', 'Miss', 'Major', 'Mr', 'Mr', 'Mr', 'Mr', 'Mr', 'Mr', 'Mr', 'Mrs', 'Miss', 'Mr', 'Mr', 'Mr', 'Mr', 'Mr', 'Mr', 'Mr', 'Mr', 'Mr', 'Mr', 'Miss', 'Mr', 'Mr', 'Mrs', 'Mrs', 'Miss', 'Mr', 'Mr', 'Mr', 'Mr', 'Miss', 'Master', 'Mr', 'Mr', 'Mrs', 'Mr', 'Miss', 'Mrs', 'Mr', 'Mr', 'Master', 'Mr', 'Mr', 'Mr', 'Mr', 'Mr', 'Mr', 'Miss', 'Mr', 'Mrs', 'Mr', 'Mr', 'Miss', 'Miss', 'Miss', 'Miss', 'Mr', 'Mrs', 'Mr', 'Mr', 'Mr', 'Mr', 'Mr', 'Mr', 'Mrs', 'Mr', 'Mr', 'Mrs', 'Mr', 'Mrs', 'Mr', 'Miss', 'Mr', 'Mr', 'Mrs', 'Mr', 'Mr', 'Miss', 'Mr', 'Mr', 'Mr', 'Miss', 'Mr', 'Mr', 'Mrs', 'Miss', 'Miss', 'Major', 'Miss', 'Mr', 'Miss', 'Miss', 'Miss', 'Miss', 'Mr', 'Mr', 'Mr', 'Mrs', 'Mr', 'Mr', 'Master', 'Mr', 'Mr', 'Mr', 'Mr', 'Miss', 'Mr', 'Lady', 'Mr', 'Mrs', 'Mrs', 'Mr', 'Mr', 'Mr', 'Mr', 'Miss', 'Mr', 'Mr', 'Mrs', 'Mr', 'Mr', 'Mr', 'Mrs', 'Mr', 'Miss', 'Mr', 'Mr', 'Miss', 'Mrs', 'Mrs', 'Mr', 'Miss', 'Mrs', 'Mr', 'Mr', 'Mr', 'Miss', 'Mr', 'Mr', 'Mr', 'Mr', 'Mr', 'Mrs', 'Mr', 'Miss', 'Mr', 'Mr', 'Miss', 'Mr', 'Mr', 'Sir', 'Mrs', 'Mr', 'Mr', 'Mr', 'Mr', 'Mr', 'Mr', 'Mr', 'Mrs', 'Miss', 'Mrs', 'Mr', 'Miss', 'Mr', 'Mr', 'Miss', 'Mr', 'Mrs', 'Miss', 'Mr', 'Mr', 'Mr', 'Mr', 'Mr', 'Mr', 'Mr', 'Rev', 'Miss', 'Mr', 'Mr', 'Mr', 'Mr', 'Dr', 'Mr', 'Miss', 'Miss', 'Mr', 'Mr', 'Mrs', 'Mr', 'Mr', 'Mlle', 'Miss', 'Mr', 'Miss', 'Mr', 'Mr', 'Col', 'Mr', 'Miss', 'Mr', 'Miss', 'Mr', 'Miss', 'Miss', 'Mr', 'Mr', 'Mrs', 'Mr', 'Mr', 'Dr', 'Mr', 'Mr', 'Mr', 'Mr', 'Mr', 'Mr', 'Mr', 'Mr', 'Mrs', 'Mrs', 'Mr', 'Mr', 'Mr', 'Mr', 'Mr', 'Mr', 'Miss', 'Mrs', 'Mr', 'Miss', 'Mr', 'Mr', 'Mr', 'Mr', 'Mr', 'Mr', 'Mr', 'Mr', 'Miss', 'Mr', 'Miss', 'Mr', 'Mr', 'Col', 'Mr', 'Mr', 'Miss', 'Mr', 'Mr', 'Mrs', 'Mr', 'Miss', 'Mr', 'Mr', 'Mr', 'Mrs', 'Mr', 'Miss', 'Master', 'Mlle', 'Mr', 'Mr', 'Mr', 'Mr', 'Mr', 'Miss', 'Miss', 'Mr', 'Mr', 'Miss', 'Mr', 'Mr', 'Mr', 'Mr', 'Mr', 'Mrs', 'Miss', 'Mr', 'Miss', 'Miss', 'Mr', 'Mr', 'Mr', 'Mr', 'Mr', 'Mrs', 'Mr', 'Mr', 'Mr', 'Mr', 'Mr', 'Miss', 'Mr', 'Mr', 'Capt', 'Mr', 'Miss', 'Mr', 'Mr', 'Miss', 'Master', 'Mr', 'Mr', 'Mrs', 'Master', 'Mr', 'Mr', 'Mr', 'Countess', 'Mr', 'Mr', 'Mr', 'Mrs', 'Mr', 'Mrs', 'Dr', 'Miss', 'Mr', 'Mr', 'Mr', 'Mr', 'Mrs', 'Mr', 'Mrs', 'Mr', 'Mr', 'Miss', 'Mr', 'Mrs', 'Miss', 'Mrs', 'Mr', 'Mr', 'Mr', 'Mr', 'Miss', 'Master', 'Master', 'Mr', 'Mr', 'Mr', 'Miss', 'Mr', 'Mr', 'Mr', 'Dr', 'Mrs', 'Mr', 'Mrs', 'Mr', 'Mrs', 'Master', 'Master', 'Mr', 'Mr', 'Mr', 'Miss', 'Mr', 'Mrs', 'Mr', 'Mr', 'Mr', 'Miss', 'Mr', 'Mr', 'Miss', 'Mr', 'Mr', 'Master', 'Mrs', 'Mr', 'Jonkheer', 'Mrs', 'Master', 'Mr', 'Mr', 'Master', 'Mr', 'Mrs', 'Mrs', 'Master', 'Mr', 'Mr', 'Mr', 'Miss', 'Mr', 'Mr', 'Mr', 'Mr', 'Mr', 'Mr', 'Miss', 'Mr', 'Mr', 'Mr', 'Mr', 'Mr', 'Rev', 'Mrs', 'Master', 'Mr', 'Miss', 'Miss', 'Mrs', 'Mrs', 'Mrs', 'Mr', 'Mrs', 'Mr', 'Mr', 'Mr', 'Mrs', 'Miss', 'Mr', 'Mrs', 'Miss', 'Mr', 'Mr', 'Master', 'Mr', 'Mrs', 'Mr', 'Mr', 'Mrs', 'Miss', 'Mr', 'Mr', 'Mr', 'Mrs', 'Mrs', 'Mr', 'Miss', 'Mr', 'Mr', 'Mrs', 'Rev', 'Miss', 'Miss', 'Mr', 'Mr']\n"
          ]
        }
      ]
    },
    {
      "cell_type": "code",
      "metadata": {
        "id": "5ZMsfu5HKYbU",
        "colab": {
          "base_uri": "https://localhost:8080/",
          "height": 423
        },
        "outputId": "a2909fc9-915b-4b01-8051-e2da9ab0f5fd"
      },
      "source": [
        "#show the new dataframe with \"Title\" column here\n",
        "\n",
        "train_df['title'] = title\n",
        "train_df"
      ],
      "execution_count": 353,
      "outputs": [
        {
          "output_type": "execute_result",
          "data": {
            "text/html": [
              "<div>\n",
              "<style scoped>\n",
              "    .dataframe tbody tr th:only-of-type {\n",
              "        vertical-align: middle;\n",
              "    }\n",
              "\n",
              "    .dataframe tbody tr th {\n",
              "        vertical-align: top;\n",
              "    }\n",
              "\n",
              "    .dataframe thead th {\n",
              "        text-align: right;\n",
              "    }\n",
              "</style>\n",
              "<table border=\"1\" class=\"dataframe\">\n",
              "  <thead>\n",
              "    <tr style=\"text-align: right;\">\n",
              "      <th></th>\n",
              "      <th>PassengerId</th>\n",
              "      <th>Survived</th>\n",
              "      <th>Pclass</th>\n",
              "      <th>Name</th>\n",
              "      <th>Sex</th>\n",
              "      <th>Age</th>\n",
              "      <th>SibSp</th>\n",
              "      <th>Parch</th>\n",
              "      <th>Ticket</th>\n",
              "      <th>Fare</th>\n",
              "      <th>Cabin</th>\n",
              "      <th>Embarked</th>\n",
              "      <th>title</th>\n",
              "    </tr>\n",
              "  </thead>\n",
              "  <tbody>\n",
              "    <tr>\n",
              "      <th>0</th>\n",
              "      <td>1</td>\n",
              "      <td>0</td>\n",
              "      <td>3</td>\n",
              "      <td>Braund, Mr. Owen Harris</td>\n",
              "      <td>male</td>\n",
              "      <td>22.0</td>\n",
              "      <td>1</td>\n",
              "      <td>0</td>\n",
              "      <td>A/5 21171</td>\n",
              "      <td>7.2500</td>\n",
              "      <td>NaN</td>\n",
              "      <td>S</td>\n",
              "      <td>Mr</td>\n",
              "    </tr>\n",
              "    <tr>\n",
              "      <th>1</th>\n",
              "      <td>2</td>\n",
              "      <td>1</td>\n",
              "      <td>1</td>\n",
              "      <td>Cumings, Mrs. John Bradley (Florence Briggs Th...</td>\n",
              "      <td>female</td>\n",
              "      <td>38.0</td>\n",
              "      <td>1</td>\n",
              "      <td>0</td>\n",
              "      <td>PC 17599</td>\n",
              "      <td>71.2833</td>\n",
              "      <td>C85</td>\n",
              "      <td>C</td>\n",
              "      <td>Mrs</td>\n",
              "    </tr>\n",
              "    <tr>\n",
              "      <th>2</th>\n",
              "      <td>3</td>\n",
              "      <td>1</td>\n",
              "      <td>3</td>\n",
              "      <td>Heikkinen, Miss. Laina</td>\n",
              "      <td>female</td>\n",
              "      <td>26.0</td>\n",
              "      <td>0</td>\n",
              "      <td>0</td>\n",
              "      <td>STON/O2. 3101282</td>\n",
              "      <td>7.9250</td>\n",
              "      <td>NaN</td>\n",
              "      <td>S</td>\n",
              "      <td>Miss</td>\n",
              "    </tr>\n",
              "    <tr>\n",
              "      <th>3</th>\n",
              "      <td>4</td>\n",
              "      <td>1</td>\n",
              "      <td>1</td>\n",
              "      <td>Futrelle, Mrs. Jacques Heath (Lily May Peel)</td>\n",
              "      <td>female</td>\n",
              "      <td>35.0</td>\n",
              "      <td>1</td>\n",
              "      <td>0</td>\n",
              "      <td>113803</td>\n",
              "      <td>53.1000</td>\n",
              "      <td>C123</td>\n",
              "      <td>S</td>\n",
              "      <td>Mrs</td>\n",
              "    </tr>\n",
              "    <tr>\n",
              "      <th>4</th>\n",
              "      <td>5</td>\n",
              "      <td>0</td>\n",
              "      <td>3</td>\n",
              "      <td>Allen, Mr. William Henry</td>\n",
              "      <td>male</td>\n",
              "      <td>35.0</td>\n",
              "      <td>0</td>\n",
              "      <td>0</td>\n",
              "      <td>373450</td>\n",
              "      <td>8.0500</td>\n",
              "      <td>NaN</td>\n",
              "      <td>S</td>\n",
              "      <td>Mr</td>\n",
              "    </tr>\n",
              "    <tr>\n",
              "      <th>...</th>\n",
              "      <td>...</td>\n",
              "      <td>...</td>\n",
              "      <td>...</td>\n",
              "      <td>...</td>\n",
              "      <td>...</td>\n",
              "      <td>...</td>\n",
              "      <td>...</td>\n",
              "      <td>...</td>\n",
              "      <td>...</td>\n",
              "      <td>...</td>\n",
              "      <td>...</td>\n",
              "      <td>...</td>\n",
              "      <td>...</td>\n",
              "    </tr>\n",
              "    <tr>\n",
              "      <th>886</th>\n",
              "      <td>887</td>\n",
              "      <td>0</td>\n",
              "      <td>2</td>\n",
              "      <td>Montvila, Rev. Juozas</td>\n",
              "      <td>male</td>\n",
              "      <td>27.0</td>\n",
              "      <td>0</td>\n",
              "      <td>0</td>\n",
              "      <td>211536</td>\n",
              "      <td>13.0000</td>\n",
              "      <td>NaN</td>\n",
              "      <td>S</td>\n",
              "      <td>Rev</td>\n",
              "    </tr>\n",
              "    <tr>\n",
              "      <th>887</th>\n",
              "      <td>888</td>\n",
              "      <td>1</td>\n",
              "      <td>1</td>\n",
              "      <td>Graham, Miss. Margaret Edith</td>\n",
              "      <td>female</td>\n",
              "      <td>19.0</td>\n",
              "      <td>0</td>\n",
              "      <td>0</td>\n",
              "      <td>112053</td>\n",
              "      <td>30.0000</td>\n",
              "      <td>B42</td>\n",
              "      <td>S</td>\n",
              "      <td>Miss</td>\n",
              "    </tr>\n",
              "    <tr>\n",
              "      <th>888</th>\n",
              "      <td>889</td>\n",
              "      <td>0</td>\n",
              "      <td>3</td>\n",
              "      <td>Johnston, Miss. Catherine Helen \"Carrie\"</td>\n",
              "      <td>female</td>\n",
              "      <td>NaN</td>\n",
              "      <td>1</td>\n",
              "      <td>2</td>\n",
              "      <td>W./C. 6607</td>\n",
              "      <td>23.4500</td>\n",
              "      <td>NaN</td>\n",
              "      <td>S</td>\n",
              "      <td>Miss</td>\n",
              "    </tr>\n",
              "    <tr>\n",
              "      <th>889</th>\n",
              "      <td>890</td>\n",
              "      <td>1</td>\n",
              "      <td>1</td>\n",
              "      <td>Behr, Mr. Karl Howell</td>\n",
              "      <td>male</td>\n",
              "      <td>26.0</td>\n",
              "      <td>0</td>\n",
              "      <td>0</td>\n",
              "      <td>111369</td>\n",
              "      <td>30.0000</td>\n",
              "      <td>C148</td>\n",
              "      <td>C</td>\n",
              "      <td>Mr</td>\n",
              "    </tr>\n",
              "    <tr>\n",
              "      <th>890</th>\n",
              "      <td>891</td>\n",
              "      <td>0</td>\n",
              "      <td>3</td>\n",
              "      <td>Dooley, Mr. Patrick</td>\n",
              "      <td>male</td>\n",
              "      <td>32.0</td>\n",
              "      <td>0</td>\n",
              "      <td>0</td>\n",
              "      <td>370376</td>\n",
              "      <td>7.7500</td>\n",
              "      <td>NaN</td>\n",
              "      <td>Q</td>\n",
              "      <td>Mr</td>\n",
              "    </tr>\n",
              "  </tbody>\n",
              "</table>\n",
              "<p>891 rows × 13 columns</p>\n",
              "</div>"
            ],
            "text/plain": [
              "     PassengerId  Survived  Pclass  ... Cabin Embarked  title\n",
              "0              1         0       3  ...   NaN        S     Mr\n",
              "1              2         1       1  ...   C85        C    Mrs\n",
              "2              3         1       3  ...   NaN        S   Miss\n",
              "3              4         1       1  ...  C123        S    Mrs\n",
              "4              5         0       3  ...   NaN        S     Mr\n",
              "..           ...       ...     ...  ...   ...      ...    ...\n",
              "886          887         0       2  ...   NaN        S    Rev\n",
              "887          888         1       1  ...   B42        S   Miss\n",
              "888          889         0       3  ...   NaN        S   Miss\n",
              "889          890         1       1  ...  C148        C     Mr\n",
              "890          891         0       3  ...   NaN        Q     Mr\n",
              "\n",
              "[891 rows x 13 columns]"
            ]
          },
          "metadata": {},
          "execution_count": 353
        }
      ]
    },
    {
      "cell_type": "markdown",
      "metadata": {
        "id": "xQBmJI2eM5KT"
      },
      "source": [
        "- write code to get unique values from the title column\n",
        "- use the unique titles to find the number of people who survived (1) and number of people who did not (0) for each title. <b>num_survived/total</b> will give the survival rate for that title\n",
        "- make a new dataframe called <b>SR_df</b> and add the survival rates corresponding to titles in it<br><br>\n",
        "you may write a function for the above.<br><br>\n",
        "expected output : <br>\n",
        "Mr &nbsp;&nbsp; 0.679392<br>\n",
        "Capt &nbsp;&nbsp; 0.1245<br>\n",
        "&nbsp;&nbsp;.<br>\n",
        "&nbsp;&nbsp;.<br>\n",
        "&nbsp;&nbsp;.<br>\n"
      ]
    },
    {
      "cell_type": "code",
      "metadata": {
        "id": "HYHZxu-YO-NJ",
        "colab": {
          "base_uri": "https://localhost:8080/"
        },
        "outputId": "8db19707-1b29-4e79-b395-5757b7854a37"
      },
      "source": [
        "\n",
        "unique= train_df.title.unique()\n",
        "dic={}\n",
        "\n",
        "for i in unique :\n",
        "  counter=k=0\n",
        "  num_survived =0\n",
        "  for j in train_df['title']:\n",
        "    if j==i :\n",
        "      counter +=1\n",
        "      if train_df.at[k,\"Survived\"]==1:\n",
        "        num_survived+=1\n",
        "    k+=1\n",
        "  dic[i]= num_survived/counter\n",
        "\n",
        "for key, value in dic.items():\n",
        "  print(key, \":\", value)"
      ],
      "execution_count": 354,
      "outputs": [
        {
          "output_type": "stream",
          "name": "stdout",
          "text": [
            "Mr : 0.15667311411992263\n",
            "Mrs : 0.792\n",
            "Miss : 0.6978021978021978\n",
            "Master : 0.575\n",
            "Don : 0.0\n",
            "Rev : 0.0\n",
            "Dr : 0.42857142857142855\n",
            "Mme : 1.0\n",
            "Ms : 1.0\n",
            "Major : 0.5\n",
            "Lady : 1.0\n",
            "Sir : 1.0\n",
            "Mlle : 1.0\n",
            "Col : 0.5\n",
            "Capt : 0.0\n",
            "Countess : 1.0\n",
            "Jonkheer : 0.0\n"
          ]
        }
      ]
    },
    {
      "cell_type": "code",
      "metadata": {
        "colab": {
          "base_uri": "https://localhost:8080/",
          "height": 582
        },
        "id": "rbMH7MwBKRN5",
        "outputId": "cc89d469-2b88-45da-fd2b-dd87f03413f5"
      },
      "source": [
        "SR_df = pd.DataFrame(list(dic.items()),columns = ['Title','Survival Rate'])\n",
        "SR_df"
      ],
      "execution_count": 355,
      "outputs": [
        {
          "output_type": "execute_result",
          "data": {
            "text/html": [
              "<div>\n",
              "<style scoped>\n",
              "    .dataframe tbody tr th:only-of-type {\n",
              "        vertical-align: middle;\n",
              "    }\n",
              "\n",
              "    .dataframe tbody tr th {\n",
              "        vertical-align: top;\n",
              "    }\n",
              "\n",
              "    .dataframe thead th {\n",
              "        text-align: right;\n",
              "    }\n",
              "</style>\n",
              "<table border=\"1\" class=\"dataframe\">\n",
              "  <thead>\n",
              "    <tr style=\"text-align: right;\">\n",
              "      <th></th>\n",
              "      <th>Title</th>\n",
              "      <th>Survival Rate</th>\n",
              "    </tr>\n",
              "  </thead>\n",
              "  <tbody>\n",
              "    <tr>\n",
              "      <th>0</th>\n",
              "      <td>Mr</td>\n",
              "      <td>0.156673</td>\n",
              "    </tr>\n",
              "    <tr>\n",
              "      <th>1</th>\n",
              "      <td>Mrs</td>\n",
              "      <td>0.792000</td>\n",
              "    </tr>\n",
              "    <tr>\n",
              "      <th>2</th>\n",
              "      <td>Miss</td>\n",
              "      <td>0.697802</td>\n",
              "    </tr>\n",
              "    <tr>\n",
              "      <th>3</th>\n",
              "      <td>Master</td>\n",
              "      <td>0.575000</td>\n",
              "    </tr>\n",
              "    <tr>\n",
              "      <th>4</th>\n",
              "      <td>Don</td>\n",
              "      <td>0.000000</td>\n",
              "    </tr>\n",
              "    <tr>\n",
              "      <th>5</th>\n",
              "      <td>Rev</td>\n",
              "      <td>0.000000</td>\n",
              "    </tr>\n",
              "    <tr>\n",
              "      <th>6</th>\n",
              "      <td>Dr</td>\n",
              "      <td>0.428571</td>\n",
              "    </tr>\n",
              "    <tr>\n",
              "      <th>7</th>\n",
              "      <td>Mme</td>\n",
              "      <td>1.000000</td>\n",
              "    </tr>\n",
              "    <tr>\n",
              "      <th>8</th>\n",
              "      <td>Ms</td>\n",
              "      <td>1.000000</td>\n",
              "    </tr>\n",
              "    <tr>\n",
              "      <th>9</th>\n",
              "      <td>Major</td>\n",
              "      <td>0.500000</td>\n",
              "    </tr>\n",
              "    <tr>\n",
              "      <th>10</th>\n",
              "      <td>Lady</td>\n",
              "      <td>1.000000</td>\n",
              "    </tr>\n",
              "    <tr>\n",
              "      <th>11</th>\n",
              "      <td>Sir</td>\n",
              "      <td>1.000000</td>\n",
              "    </tr>\n",
              "    <tr>\n",
              "      <th>12</th>\n",
              "      <td>Mlle</td>\n",
              "      <td>1.000000</td>\n",
              "    </tr>\n",
              "    <tr>\n",
              "      <th>13</th>\n",
              "      <td>Col</td>\n",
              "      <td>0.500000</td>\n",
              "    </tr>\n",
              "    <tr>\n",
              "      <th>14</th>\n",
              "      <td>Capt</td>\n",
              "      <td>0.000000</td>\n",
              "    </tr>\n",
              "    <tr>\n",
              "      <th>15</th>\n",
              "      <td>Countess</td>\n",
              "      <td>1.000000</td>\n",
              "    </tr>\n",
              "    <tr>\n",
              "      <th>16</th>\n",
              "      <td>Jonkheer</td>\n",
              "      <td>0.000000</td>\n",
              "    </tr>\n",
              "  </tbody>\n",
              "</table>\n",
              "</div>"
            ],
            "text/plain": [
              "       Title  Survival Rate\n",
              "0         Mr       0.156673\n",
              "1        Mrs       0.792000\n",
              "2       Miss       0.697802\n",
              "3     Master       0.575000\n",
              "4        Don       0.000000\n",
              "5        Rev       0.000000\n",
              "6         Dr       0.428571\n",
              "7        Mme       1.000000\n",
              "8         Ms       1.000000\n",
              "9      Major       0.500000\n",
              "10      Lady       1.000000\n",
              "11       Sir       1.000000\n",
              "12      Mlle       1.000000\n",
              "13       Col       0.500000\n",
              "14      Capt       0.000000\n",
              "15  Countess       1.000000\n",
              "16  Jonkheer       0.000000"
            ]
          },
          "metadata": {},
          "execution_count": 355
        }
      ]
    },
    {
      "cell_type": "code",
      "metadata": {
        "id": "eftv29NFPJzr"
      },
      "source": [
        ""
      ],
      "execution_count": 355,
      "outputs": []
    },
    {
      "cell_type": "code",
      "metadata": {
        "id": "cxczSuKiPr5u"
      },
      "source": [
        ""
      ],
      "execution_count": 355,
      "outputs": []
    },
    {
      "cell_type": "markdown",
      "metadata": {
        "id": "Olnh97qqO-tZ"
      },
      "source": [
        "- use SR_df to plot a bar graph for survival rate vs Title"
      ]
    },
    {
      "cell_type": "code",
      "metadata": {
        "id": "QYmrVku9MPdT",
        "colab": {
          "base_uri": "https://localhost:8080/",
          "height": 332
        },
        "outputId": "14fe01a2-2ebd-4b4e-b50d-38740e5b9984"
      },
      "source": [
        "#write code here\n",
        "\n",
        "SR_df.plot(x ='Title', y='Survival Rate', kind = 'bar')"
      ],
      "execution_count": 356,
      "outputs": [
        {
          "output_type": "execute_result",
          "data": {
            "text/plain": [
              "<matplotlib.axes._subplots.AxesSubplot at 0x7fd37efe0490>"
            ]
          },
          "metadata": {},
          "execution_count": 356
        },
        {
          "output_type": "display_data",
          "data": {
            "image/png": "[encoded data removed]",
            "text/plain": [
              "<Figure size 432x288 with 1 Axes>"
            ]
          },
          "metadata": {
            "needs_background": "light"
          }
        }
      ]
    },
    {
      "cell_type": "markdown",
      "metadata": {
        "id": "xrIVW_mHQPJX"
      },
      "source": [
        "This brings us to the end of EDA. <br>\n",
        "You may feel free to do more exploratry analysis.<br>\n",
        "The aim of this notebook is not to point out every small detail but to give you an overview and guide you"
      ]
    },
    {
      "cell_type": "code",
      "metadata": {
        "id": "qzpcPY_vRfNM"
      },
      "source": [
        ""
      ],
      "execution_count": 356,
      "outputs": []
    },
    {
      "cell_type": "markdown",
      "metadata": {
        "id": "2tImb-hXsXmI"
      },
      "source": [
        "## 4. Data Visualization"
      ]
    },
    {
      "cell_type": "markdown",
      "metadata": {
        "id": "ah1dARlJsddI"
      },
      "source": [
        "- Make a pie chart to show the number of people who survived and number of people who did not\n",
        "- Make a pie chart to show the number of <b>Males</b> who survived and number of people who did not\n",
        "- Make a pie chart to show the number of <b>Females</b> who survived and number of people who did not\n",
        "<br><br>\n",
        "Note that all three charts must be visible in a single row (look into subplots)"
      ]
    },
    {
      "cell_type": "code",
      "metadata": {
        "id": "gaZyWEN5sXP6",
        "colab": {
          "base_uri": "https://localhost:8080/",
          "height": 408
        },
        "outputId": "9b6441b8-610e-4778-e25f-9927c03fe485"
      },
      "source": [
        "import matplotlib.ticker as ticker\n",
        "import matplotlib.cm as cm\n",
        "import matplotlib as mpl\n",
        "from matplotlib.gridspec import GridSpec\n",
        "\n",
        "train_df.groupby('Sex').Survived.mean().plot(kind='bar')\n",
        "print (train_df.groupby('Sex').Survived.value_counts())"
      ],
      "execution_count": 357,
      "outputs": [
        {
          "output_type": "stream",
          "name": "stdout",
          "text": [
            "Sex     Survived\n",
            "female  1           233\n",
            "        0            81\n",
            "male    0           468\n",
            "        1           109\n",
            "Name: Survived, dtype: int64\n"
          ]
        },
        {
          "output_type": "display_data",
          "data": {
            "image/png": "[encoded data removed]",
            "text/plain": [
              "<Figure size 432x288 with 1 Axes>"
            ]
          },
          "metadata": {
            "needs_background": "light"
          }
        }
      ]
    },
    {
      "cell_type": "code",
      "metadata": {
        "colab": {
          "base_uri": "https://localhost:8080/",
          "height": 138
        },
        "id": "UKD4XUSUoAws",
        "outputId": "e6ae838f-a68f-468a-d4c7-a7d187c7db16"
      },
      "source": [
        "alive_total = dead_total = 0\n",
        "alive_male = dead_male = 0\n",
        "alive_female = dead_female = 0\n",
        "\n",
        "total = []\n",
        "male = []\n",
        "female = []\n",
        "\n",
        "j = 0\n",
        "for i in train_df.Survived:\n",
        "  if i == 1:\n",
        "    alive_total += 1\n",
        "    if train_df.at[j, 'Sex'] == \"male\":\n",
        "      alive_male += 1\n",
        "    else:\n",
        "      alive_female += 1\n",
        "\n",
        "  else:\n",
        "    dead_total += 1\n",
        "    if train_df.at[j, 'Sex'] == \"male\":\n",
        "      dead_male += 1\n",
        "    else:\n",
        "      dead_female += 1\n",
        "  j += 1\n",
        "\n",
        "total.append(alive_total)\n",
        "male.append(alive_male)\n",
        "female.append(alive_female)\n",
        "\n",
        "total.append(dead_total)\n",
        "male.append(dead_male)\n",
        "female.append(dead_female)\n",
        "cmap = plt.get_cmap('Spectral')\n",
        "colors = [cmap(i) for i in np.linspace(0, 1, 8)]\n",
        "\n",
        "plt.subplot(1,15,1)\n",
        "plt.pie(total, radius=7, startangle=60, labels=[\"Survived\", \"Dead\"], autopct='%1.1f%%', shadow=True, colors=colors)\n",
        "plt.subplot(1,15,8)\n",
        "plt.pie(male, radius=7, startangle=120, labels=[\"alive_male\", \"Dead\"], autopct='%1.1f%%', shadow=True, colors=colors)\n",
        "plt.subplot(1,15,15)\n",
        "plt.pie(female, radius=7, startangle=0, labels=[\"alive_female\", \"Dead\"], autopct='%1.1f%%', shadow=True, colors=colors)\n",
        "\n",
        "plt.show()\n"
      ],
      "execution_count": 358,
      "outputs": [
        {
          "output_type": "display_data",
          "data": {
            "image/png": "[encoded data removed]",
            "text/plain": [
              "<Figure size 432x288 with 3 Axes>"
            ]
          },
          "metadata": {}
        }
      ]
    },
    {
      "cell_type": "markdown",
      "metadata": {
        "id": "uYSmxfqEsjGo"
      },
      "source": [
        "- Find if money affected survival rate (fare and Pclass) \n",
        " - Make a bar graph showing Pclass vs survival rate\n",
        " - Make a KDE plot (use the sns library) and plot Fare based on the Survival (google away for this one)"
      ]
    },
    {
      "cell_type": "code",
      "metadata": {
        "colab": {
          "base_uri": "https://localhost:8080/",
          "height": 294
        },
        "id": "1BEE7_PJfM8v",
        "outputId": "8476eb4d-2f99-459a-e357-a709544c2376"
      },
      "source": [
        "keys = train_df.Pclass.unique()\n",
        "keys.sort()\n",
        "dic = {}\n",
        "rows = len(train_df['Pclass'])\n",
        "\n",
        "alive = dead = 0\n",
        "for i in range (len(keys)):\n",
        "  for j in range (rows):\n",
        "    if train_df.at[j,'Pclass'] == keys[i]:\n",
        "      if train_df.at[j,'Survived'] == 1:\n",
        "        alive += 1\n",
        "      else:\n",
        "        dead +=1\n",
        "      perc = alive/(alive + dead)\n",
        "      dic[keys[i]] = perc\n",
        "\n",
        "SR_df = pd.DataFrame(list(dic.items()),columns = ['Pclass','Survival Rate'])\n",
        "SR_df.plot(x ='Pclass', y='Survival Rate', kind = 'bar')"
      ],
      "execution_count": 359,
      "outputs": [
        {
          "output_type": "execute_result",
          "data": {
            "text/plain": [
              "<matplotlib.axes._subplots.AxesSubplot at 0x7fd37ee77b10>"
            ]
          },
          "metadata": {},
          "execution_count": 359
        },
        {
          "output_type": "display_data",
          "data": {
            "image/png": "[encoded data removed]",
            "text/plain": [
              "<Figure size 432x288 with 1 Axes>"
            ]
          },
          "metadata": {
            "needs_background": "light"
          }
        }
      ]
    },
    {
      "cell_type": "code",
      "metadata": {
        "id": "l3YP8H18si4G",
        "colab": {
          "base_uri": "https://localhost:8080/",
          "height": 314
        },
        "outputId": "5341fd1b-a9a4-451f-d55e-9a6ac7ef1995"
      },
      "source": [
        "#write code here\n",
        "import os\n",
        "import seaborn as sns\n",
        "\n",
        "sns.kdeplot(data=train_df.loc[(train_df['Survived'] == 0),'Fare'], color=\"Blue\", shade=True, legend=True)\n",
        "sns.kdeplot(data=train_df.loc[(train_df['Survived'] == 1),'Fare'], color=\"Orange\", shade=True, legend=True)\n",
        "plt.xlabel('Fare')\n",
        "plt.ylabel('Probability Density')\n",
        "plt.legend(loc='upper right', title='survived')"
      ],
      "execution_count": 360,
      "outputs": [
        {
          "output_type": "stream",
          "name": "stderr",
          "text": [
            "No handles with labels found to put in legend.\n"
          ]
        },
        {
          "output_type": "execute_result",
          "data": {
            "text/plain": [
              "<matplotlib.legend.Legend at 0x7fd37ed41c90>"
            ]
          },
          "metadata": {},
          "execution_count": 360
        },
        {
          "output_type": "display_data",
          "data": {
            "image/png": "[encoded data removed]",
            "text/plain": [
              "<Figure size 432x288 with 1 Axes>"
            ]
          },
          "metadata": {
            "needs_background": "light"
          }
        }
      ]
    },
    {
      "cell_type": "code",
      "metadata": {
        "id": "ekU_aa0Wsn6T"
      },
      "source": [
        ""
      ],
      "execution_count": 360,
      "outputs": []
    },
    {
      "cell_type": "markdown",
      "metadata": {
        "id": "NzSBvjqdRfiM"
      },
      "source": [
        "## 5. Preprocessing\n",
        "preprocessing is a very important step before we step into modelling"
      ]
    },
    {
      "cell_type": "markdown",
      "metadata": {
        "id": "1_HLgWAZTD-2"
      },
      "source": [
        " - when we added the Title column in the datadframe, we did preprocessing on the existing data to extract relevant information. As we also tried to explore and understand the data using survival rate, we saw it under EDA."
      ]
    },
    {
      "cell_type": "markdown",
      "metadata": {
        "id": "V-eJsxXrTuBJ"
      },
      "source": [
        "### 5.a. Removing unnecessary columns"
      ]
    },
    {
      "cell_type": "markdown",
      "metadata": {
        "id": "ij1QOguUT7nO"
      },
      "source": [
        " - The columns PassengerId and Ticket play no logical role in being related to the survival of a passenger. Hence we will remove them.\n",
        " - We will also remove the Name column as we have done <b>feature extraction</b> and obtained titles instead. (test set might have extra titles which are not in the train set. Think about how we would consider them. This however doesn't affect task 1's objective)"
      ]
    },
    {
      "cell_type": "code",
      "metadata": {
        "id": "lpLKo4YgMSKA",
        "colab": {
          "base_uri": "https://localhost:8080/"
        },
        "outputId": "eeec083b-b39a-492f-c9ca-8ab714cebb7c"
      },
      "source": [
        "#write code to remove unnecessary columns from the dataframe here\n",
        "\n",
        "train_df.drop(columns=[\"PassengerId\",\"Ticket\",\"Name\"],inplace=True)\n",
        "train_df.columns"
      ],
      "execution_count": 361,
      "outputs": [
        {
          "output_type": "execute_result",
          "data": {
            "text/plain": [
              "Index(['Survived', 'Pclass', 'Sex', 'Age', 'SibSp', 'Parch', 'Fare', 'Cabin',\n",
              "       'Embarked', 'title'],\n",
              "      dtype='object')"
            ]
          },
          "metadata": {},
          "execution_count": 361
        }
      ]
    },
    {
      "cell_type": "code",
      "metadata": {
        "id": "IwARq2gEaoYK"
      },
      "source": [
        ""
      ],
      "execution_count": 361,
      "outputs": []
    },
    {
      "cell_type": "markdown",
      "metadata": {
        "id": "63jou6PJaoqp"
      },
      "source": [
        "### 5.b. Nan analysis"
      ]
    },
    {
      "cell_type": "markdown",
      "metadata": {
        "id": "qh6_TT42ay-x"
      },
      "source": [
        " - write code to find the percentage of Nans in each column and visualize it in a tabular format"
      ]
    },
    {
      "cell_type": "code",
      "metadata": {
        "id": "F0V-qmTDUMAx",
        "colab": {
          "base_uri": "https://localhost:8080/"
        },
        "outputId": "4930ae25-0651-4f0f-a2c7-dc960f485d68"
      },
      "source": [
        "x = train_df.isnull().sum() / train_df.shape[0] *100\n",
        "print(x)"
      ],
      "execution_count": 362,
      "outputs": [
        {
          "output_type": "stream",
          "name": "stdout",
          "text": [
            "Survived     0.000000\n",
            "Pclass       0.000000\n",
            "Sex          0.000000\n",
            "Age         19.865320\n",
            "SibSp        0.000000\n",
            "Parch        0.000000\n",
            "Fare         0.000000\n",
            "Cabin       77.104377\n",
            "Embarked     0.224467\n",
            "title        0.000000\n",
            "dtype: float64\n"
          ]
        }
      ]
    },
    {
      "cell_type": "markdown",
      "metadata": {
        "id": "2mqclVHla_ey"
      },
      "source": [
        " - remove any column having more than 50% Nans as they would be of no use"
      ]
    },
    {
      "cell_type": "code",
      "metadata": {
        "id": "wN6LpxsKa-Zi"
      },
      "source": [
        "for column in train_df.columns:\n",
        " if (train_df[column].isnull().sum()*100.0/train_df.shape[0]) > 50:\n",
        "      train_df.drop(column,1, inplace=True)"
      ],
      "execution_count": 363,
      "outputs": []
    },
    {
      "cell_type": "code",
      "metadata": {
        "colab": {
          "base_uri": "https://localhost:8080/"
        },
        "id": "KWKzWv0_Gc2q",
        "outputId": "8b4bfa5c-f01f-4aab-987e-4bf2baa6753b"
      },
      "source": [
        "train_df.columns"
      ],
      "execution_count": 364,
      "outputs": [
        {
          "output_type": "execute_result",
          "data": {
            "text/plain": [
              "Index(['Survived', 'Pclass', 'Sex', 'Age', 'SibSp', 'Parch', 'Fare',\n",
              "       'Embarked', 'title'],\n",
              "      dtype='object')"
            ]
          },
          "metadata": {},
          "execution_count": 364
        }
      ]
    },
    {
      "cell_type": "markdown",
      "metadata": {
        "id": "YfPIbLBkbU8C"
      },
      "source": [
        " - Fill Nans in the Embark column with the statistical mode\n",
        " - Fill Nans in the Age column with it's statistical mean"
      ]
    },
    {
      "cell_type": "code",
      "metadata": {
        "id": "ht5Uxpb6a9SA"
      },
      "source": [
        "#write code here\n",
        "train_df['Age'] = train_df['Age'].fillna(np.mean(train_df['Age']))\n",
        "from scipy import stats\n",
        "mode = stats.mode(np.array(train_df['Embarked']))\n",
        "train_df['Embarked']=train_df['Embarked'].fillna(mode[0][0])"
      ],
      "execution_count": 365,
      "outputs": []
    },
    {
      "cell_type": "markdown",
      "metadata": {
        "id": "ldZ-7Knyc7r1"
      },
      "source": [
        " - show the new Nan percentage vs column name table after filling and removing to make sure there are no Nans"
      ]
    },
    {
      "cell_type": "code",
      "metadata": {
        "id": "qalNu0Gvc6ih",
        "colab": {
          "base_uri": "https://localhost:8080/"
        },
        "outputId": "0e3b8aab-69b5-4d23-f4c2-d9c3f5a73b9b"
      },
      "source": [
        "#write code here\n",
        "train_df.isna().sum()*100/len(train_df)"
      ],
      "execution_count": 366,
      "outputs": [
        {
          "output_type": "execute_result",
          "data": {
            "text/plain": [
              "Survived    0.0\n",
              "Pclass      0.0\n",
              "Sex         0.0\n",
              "Age         0.0\n",
              "SibSp       0.0\n",
              "Parch       0.0\n",
              "Fare        0.0\n",
              "Embarked    0.0\n",
              "title       0.0\n",
              "dtype: float64"
            ]
          },
          "metadata": {},
          "execution_count": 366
        }
      ]
    },
    {
      "cell_type": "code",
      "metadata": {
        "id": "_aeWd33AepZi",
        "colab": {
          "base_uri": "https://localhost:8080/",
          "height": 206
        },
        "outputId": "dccf24a9-2268-4d49-a7ca-3673b9609fe8"
      },
      "source": [
        "train_df.head()"
      ],
      "execution_count": 367,
      "outputs": [
        {
          "output_type": "execute_result",
          "data": {
            "text/html": [
              "<div>\n",
              "<style scoped>\n",
              "    .dataframe tbody tr th:only-of-type {\n",
              "        vertical-align: middle;\n",
              "    }\n",
              "\n",
              "    .dataframe tbody tr th {\n",
              "        vertical-align: top;\n",
              "    }\n",
              "\n",
              "    .dataframe thead th {\n",
              "        text-align: right;\n",
              "    }\n",
              "</style>\n",
              "<table border=\"1\" class=\"dataframe\">\n",
              "  <thead>\n",
              "    <tr style=\"text-align: right;\">\n",
              "      <th></th>\n",
              "      <th>Survived</th>\n",
              "      <th>Pclass</th>\n",
              "      <th>Sex</th>\n",
              "      <th>Age</th>\n",
              "      <th>SibSp</th>\n",
              "      <th>Parch</th>\n",
              "      <th>Fare</th>\n",
              "      <th>Embarked</th>\n",
              "      <th>title</th>\n",
              "    </tr>\n",
              "  </thead>\n",
              "  <tbody>\n",
              "    <tr>\n",
              "      <th>0</th>\n",
              "      <td>0</td>\n",
              "      <td>3</td>\n",
              "      <td>male</td>\n",
              "      <td>22.0</td>\n",
              "      <td>1</td>\n",
              "      <td>0</td>\n",
              "      <td>7.2500</td>\n",
              "      <td>S</td>\n",
              "      <td>Mr</td>\n",
              "    </tr>\n",
              "    <tr>\n",
              "      <th>1</th>\n",
              "      <td>1</td>\n",
              "      <td>1</td>\n",
              "      <td>female</td>\n",
              "      <td>38.0</td>\n",
              "      <td>1</td>\n",
              "      <td>0</td>\n",
              "      <td>71.2833</td>\n",
              "      <td>C</td>\n",
              "      <td>Mrs</td>\n",
              "    </tr>\n",
              "    <tr>\n",
              "      <th>2</th>\n",
              "      <td>1</td>\n",
              "      <td>3</td>\n",
              "      <td>female</td>\n",
              "      <td>26.0</td>\n",
              "      <td>0</td>\n",
              "      <td>0</td>\n",
              "      <td>7.9250</td>\n",
              "      <td>S</td>\n",
              "      <td>Miss</td>\n",
              "    </tr>\n",
              "    <tr>\n",
              "      <th>3</th>\n",
              "      <td>1</td>\n",
              "      <td>1</td>\n",
              "      <td>female</td>\n",
              "      <td>35.0</td>\n",
              "      <td>1</td>\n",
              "      <td>0</td>\n",
              "      <td>53.1000</td>\n",
              "      <td>S</td>\n",
              "      <td>Mrs</td>\n",
              "    </tr>\n",
              "    <tr>\n",
              "      <th>4</th>\n",
              "      <td>0</td>\n",
              "      <td>3</td>\n",
              "      <td>male</td>\n",
              "      <td>35.0</td>\n",
              "      <td>0</td>\n",
              "      <td>0</td>\n",
              "      <td>8.0500</td>\n",
              "      <td>S</td>\n",
              "      <td>Mr</td>\n",
              "    </tr>\n",
              "  </tbody>\n",
              "</table>\n",
              "</div>"
            ],
            "text/plain": [
              "   Survived  Pclass     Sex   Age  SibSp  Parch     Fare Embarked title\n",
              "0         0       3    male  22.0      1      0   7.2500        S    Mr\n",
              "1         1       1  female  38.0      1      0  71.2833        C   Mrs\n",
              "2         1       3  female  26.0      0      0   7.9250        S  Miss\n",
              "3         1       1  female  35.0      1      0  53.1000        S   Mrs\n",
              "4         0       3    male  35.0      0      0   8.0500        S    Mr"
            ]
          },
          "metadata": {},
          "execution_count": 367
        }
      ]
    },
    {
      "cell_type": "markdown",
      "metadata": {
        "id": "EQKtPBSSgUpN"
      },
      "source": [
        "### 5.c. Adding features to the dataset"
      ]
    },
    {
      "cell_type": "markdown",
      "metadata": {
        "id": "daJuxRs4gcH9"
      },
      "source": [
        " - Read the kaggle link (titanic dataset) provided above and see what the two columns SibSP and Parch signify\n",
        " - Using that create a new column called <B>Family_members</b>\n",
        " - Fill it with the sum of SibSP and Parch"
      ]
    },
    {
      "cell_type": "code",
      "metadata": {
        "id": "IZF7_Jfagbd_",
        "colab": {
          "base_uri": "https://localhost:8080/",
          "height": 206
        },
        "outputId": "d12bc624-326b-411b-dff3-52a2f664d501"
      },
      "source": [
        "#write code here\n",
        "train_df[\"Family_members\"]=train_df[\"SibSp\"]+train_df[\"Parch\"]\n",
        "train_df.head()"
      ],
      "execution_count": 368,
      "outputs": [
        {
          "output_type": "execute_result",
          "data": {
            "text/html": [
              "<div>\n",
              "<style scoped>\n",
              "    .dataframe tbody tr th:only-of-type {\n",
              "        vertical-align: middle;\n",
              "    }\n",
              "\n",
              "    .dataframe tbody tr th {\n",
              "        vertical-align: top;\n",
              "    }\n",
              "\n",
              "    .dataframe thead th {\n",
              "        text-align: right;\n",
              "    }\n",
              "</style>\n",
              "<table border=\"1\" class=\"dataframe\">\n",
              "  <thead>\n",
              "    <tr style=\"text-align: right;\">\n",
              "      <th></th>\n",
              "      <th>Survived</th>\n",
              "      <th>Pclass</th>\n",
              "      <th>Sex</th>\n",
              "      <th>Age</th>\n",
              "      <th>SibSp</th>\n",
              "      <th>Parch</th>\n",
              "      <th>Fare</th>\n",
              "      <th>Embarked</th>\n",
              "      <th>title</th>\n",
              "      <th>Family_members</th>\n",
              "    </tr>\n",
              "  </thead>\n",
              "  <tbody>\n",
              "    <tr>\n",
              "      <th>0</th>\n",
              "      <td>0</td>\n",
              "      <td>3</td>\n",
              "      <td>male</td>\n",
              "      <td>22.0</td>\n",
              "      <td>1</td>\n",
              "      <td>0</td>\n",
              "      <td>7.2500</td>\n",
              "      <td>S</td>\n",
              "      <td>Mr</td>\n",
              "      <td>1</td>\n",
              "    </tr>\n",
              "    <tr>\n",
              "      <th>1</th>\n",
              "      <td>1</td>\n",
              "      <td>1</td>\n",
              "      <td>female</td>\n",
              "      <td>38.0</td>\n",
              "      <td>1</td>\n",
              "      <td>0</td>\n",
              "      <td>71.2833</td>\n",
              "      <td>C</td>\n",
              "      <td>Mrs</td>\n",
              "      <td>1</td>\n",
              "    </tr>\n",
              "    <tr>\n",
              "      <th>2</th>\n",
              "      <td>1</td>\n",
              "      <td>3</td>\n",
              "      <td>female</td>\n",
              "      <td>26.0</td>\n",
              "      <td>0</td>\n",
              "      <td>0</td>\n",
              "      <td>7.9250</td>\n",
              "      <td>S</td>\n",
              "      <td>Miss</td>\n",
              "      <td>0</td>\n",
              "    </tr>\n",
              "    <tr>\n",
              "      <th>3</th>\n",
              "      <td>1</td>\n",
              "      <td>1</td>\n",
              "      <td>female</td>\n",
              "      <td>35.0</td>\n",
              "      <td>1</td>\n",
              "      <td>0</td>\n",
              "      <td>53.1000</td>\n",
              "      <td>S</td>\n",
              "      <td>Mrs</td>\n",
              "      <td>1</td>\n",
              "    </tr>\n",
              "    <tr>\n",
              "      <th>4</th>\n",
              "      <td>0</td>\n",
              "      <td>3</td>\n",
              "      <td>male</td>\n",
              "      <td>35.0</td>\n",
              "      <td>0</td>\n",
              "      <td>0</td>\n",
              "      <td>8.0500</td>\n",
              "      <td>S</td>\n",
              "      <td>Mr</td>\n",
              "      <td>0</td>\n",
              "    </tr>\n",
              "  </tbody>\n",
              "</table>\n",
              "</div>"
            ],
            "text/plain": [
              "   Survived  Pclass     Sex   Age  ...     Fare  Embarked  title Family_members\n",
              "0         0       3    male  22.0  ...   7.2500         S     Mr              1\n",
              "1         1       1  female  38.0  ...  71.2833         C    Mrs              1\n",
              "2         1       3  female  26.0  ...   7.9250         S   Miss              0\n",
              "3         1       1  female  35.0  ...  53.1000         S    Mrs              1\n",
              "4         0       3    male  35.0  ...   8.0500         S     Mr              0\n",
              "\n",
              "[5 rows x 10 columns]"
            ]
          },
          "metadata": {},
          "execution_count": 368
        }
      ]
    },
    {
      "cell_type": "markdown",
      "metadata": {
        "id": "1jrABHyphdWg"
      },
      "source": [
        " - Now you may remove the two columns SibSP and Parch<br>\n",
        " It is important to remove them because they introduce multicollinearity in our dataset now as the new column Family_members is directly dependent on them.<br>\n",
        " Multicollinearity is deadly to linear models that we will look into later"
      ]
    },
    {
      "cell_type": "code",
      "metadata": {
        "id": "aPf3p6WChc3g",
        "colab": {
          "base_uri": "https://localhost:8080/"
        },
        "outputId": "f1ba3630-d5bf-443a-d225-30b6e4863e94"
      },
      "source": [
        "#write code here\n",
        "\n",
        "train_df.drop(['SibSp', 'Parch'], axis = 1, inplace=True)\n",
        "train_df.columns"
      ],
      "execution_count": 369,
      "outputs": [
        {
          "output_type": "execute_result",
          "data": {
            "text/plain": [
              "Index(['Survived', 'Pclass', 'Sex', 'Age', 'Fare', 'Embarked', 'title',\n",
              "       'Family_members'],\n",
              "      dtype='object')"
            ]
          },
          "metadata": {},
          "execution_count": 369
        }
      ]
    },
    {
      "cell_type": "code",
      "metadata": {
        "id": "ZoC97Umai-vg",
        "colab": {
          "base_uri": "https://localhost:8080/",
          "height": 206
        },
        "outputId": "e0242059-46e8-4d46-ffa3-796d46687df7"
      },
      "source": [
        "train_df.head()\n"
      ],
      "execution_count": 370,
      "outputs": [
        {
          "output_type": "execute_result",
          "data": {
            "text/html": [
              "<div>\n",
              "<style scoped>\n",
              "    .dataframe tbody tr th:only-of-type {\n",
              "        vertical-align: middle;\n",
              "    }\n",
              "\n",
              "    .dataframe tbody tr th {\n",
              "        vertical-align: top;\n",
              "    }\n",
              "\n",
              "    .dataframe thead th {\n",
              "        text-align: right;\n",
              "    }\n",
              "</style>\n",
              "<table border=\"1\" class=\"dataframe\">\n",
              "  <thead>\n",
              "    <tr style=\"text-align: right;\">\n",
              "      <th></th>\n",
              "      <th>Survived</th>\n",
              "      <th>Pclass</th>\n",
              "      <th>Sex</th>\n",
              "      <th>Age</th>\n",
              "      <th>Fare</th>\n",
              "      <th>Embarked</th>\n",
              "      <th>title</th>\n",
              "      <th>Family_members</th>\n",
              "    </tr>\n",
              "  </thead>\n",
              "  <tbody>\n",
              "    <tr>\n",
              "      <th>0</th>\n",
              "      <td>0</td>\n",
              "      <td>3</td>\n",
              "      <td>male</td>\n",
              "      <td>22.0</td>\n",
              "      <td>7.2500</td>\n",
              "      <td>S</td>\n",
              "      <td>Mr</td>\n",
              "      <td>1</td>\n",
              "    </tr>\n",
              "    <tr>\n",
              "      <th>1</th>\n",
              "      <td>1</td>\n",
              "      <td>1</td>\n",
              "      <td>female</td>\n",
              "      <td>38.0</td>\n",
              "      <td>71.2833</td>\n",
              "      <td>C</td>\n",
              "      <td>Mrs</td>\n",
              "      <td>1</td>\n",
              "    </tr>\n",
              "    <tr>\n",
              "      <th>2</th>\n",
              "      <td>1</td>\n",
              "      <td>3</td>\n",
              "      <td>female</td>\n",
              "      <td>26.0</td>\n",
              "      <td>7.9250</td>\n",
              "      <td>S</td>\n",
              "      <td>Miss</td>\n",
              "      <td>0</td>\n",
              "    </tr>\n",
              "    <tr>\n",
              "      <th>3</th>\n",
              "      <td>1</td>\n",
              "      <td>1</td>\n",
              "      <td>female</td>\n",
              "      <td>35.0</td>\n",
              "      <td>53.1000</td>\n",
              "      <td>S</td>\n",
              "      <td>Mrs</td>\n",
              "      <td>1</td>\n",
              "    </tr>\n",
              "    <tr>\n",
              "      <th>4</th>\n",
              "      <td>0</td>\n",
              "      <td>3</td>\n",
              "      <td>male</td>\n",
              "      <td>35.0</td>\n",
              "      <td>8.0500</td>\n",
              "      <td>S</td>\n",
              "      <td>Mr</td>\n",
              "      <td>0</td>\n",
              "    </tr>\n",
              "  </tbody>\n",
              "</table>\n",
              "</div>"
            ],
            "text/plain": [
              "   Survived  Pclass     Sex   Age     Fare Embarked title  Family_members\n",
              "0         0       3    male  22.0   7.2500        S    Mr               1\n",
              "1         1       1  female  38.0  71.2833        C   Mrs               1\n",
              "2         1       3  female  26.0   7.9250        S  Miss               0\n",
              "3         1       1  female  35.0  53.1000        S   Mrs               1\n",
              "4         0       3    male  35.0   8.0500        S    Mr               0"
            ]
          },
          "metadata": {},
          "execution_count": 370
        }
      ]
    },
    {
      "cell_type": "markdown",
      "metadata": {
        "id": "Az401HQIi8FR"
      },
      "source": [
        "### 5.d. Scaling and Normalization\n",
        "we don't want to give undue advantage to a few columns (when training models), just because they have a numeric data that is larger in magnitude.<br>\n",
        "Therefore we scale all values down to a specific range or distribution\n",
        "<br>"
      ]
    },
    {
      "cell_type": "markdown",
      "metadata": {
        "id": "8uXii3c6jx-4"
      },
      "source": [
        " - Columns to apply scaling on\n",
        "  - Age\n",
        "  - Fare\n",
        "  - Family_members\n",
        "\n",
        "- Although Pclass column is numeric, it contains classification data (only 1, 2 and 3). Therefore only continuous data like age, fare, etc needs to be normalized"
      ]
    },
    {
      "cell_type": "markdown",
      "metadata": {
        "id": "NwDqNCcrlYtR"
      },
      "source": [
        " - Read about standardization and normalization in this link https://www.geeksforgeeks.org/normalization-vs-standardization/\n",
        " - apply the formulas given in the link above and scale/normalize the features that are supposed to be scaled\n",
        " - It is your choice to choose wether you choose to normalize or standardize a column. You will be able to make your choice after reading the link contents.\n",
        " - If you feel confused with the choice, then you can go ahead and directly normalize."
      ]
    },
    {
      "cell_type": "code",
      "metadata": {
        "id": "9LzoSA42h_wv",
        "colab": {
          "base_uri": "https://localhost:8080/",
          "height": 423
        },
        "outputId": "30ddefb1-3518-4c0e-f79c-a01139321a3b"
      },
      "source": [
        "def normailze(dataList):\n",
        "  X_new=[]\n",
        "  X_max=max(dataList)\n",
        "  X_min=min(dataList)\n",
        "  for i in dataList:\n",
        "    X_new.append((i-X_min)/(X_max-X_min))\n",
        "  return X_new\n",
        "\n",
        "train_df[\"Fare\"] = normailze(train_df[\"Fare\"])\n",
        "train_df[\"Family_members\"] = normailze(train_df[\"Family_members\"])\n",
        "train_df[\"Age\"] = normailze(train_df[\"Age\"])\n",
        "train_df\n"
      ],
      "execution_count": 371,
      "outputs": [
        {
          "output_type": "execute_result",
          "data": {
            "text/html": [
              "<div>\n",
              "<style scoped>\n",
              "    .dataframe tbody tr th:only-of-type {\n",
              "        vertical-align: middle;\n",
              "    }\n",
              "\n",
              "    .dataframe tbody tr th {\n",
              "        vertical-align: top;\n",
              "    }\n",
              "\n",
              "    .dataframe thead th {\n",
              "        text-align: right;\n",
              "    }\n",
              "</style>\n",
              "<table border=\"1\" class=\"dataframe\">\n",
              "  <thead>\n",
              "    <tr style=\"text-align: right;\">\n",
              "      <th></th>\n",
              "      <th>Survived</th>\n",
              "      <th>Pclass</th>\n",
              "      <th>Sex</th>\n",
              "      <th>Age</th>\n",
              "      <th>Fare</th>\n",
              "      <th>Embarked</th>\n",
              "      <th>title</th>\n",
              "      <th>Family_members</th>\n",
              "    </tr>\n",
              "  </thead>\n",
              "  <tbody>\n",
              "    <tr>\n",
              "      <th>0</th>\n",
              "      <td>0</td>\n",
              "      <td>3</td>\n",
              "      <td>male</td>\n",
              "      <td>0.271174</td>\n",
              "      <td>0.014151</td>\n",
              "      <td>S</td>\n",
              "      <td>Mr</td>\n",
              "      <td>0.1</td>\n",
              "    </tr>\n",
              "    <tr>\n",
              "      <th>1</th>\n",
              "      <td>1</td>\n",
              "      <td>1</td>\n",
              "      <td>female</td>\n",
              "      <td>0.472229</td>\n",
              "      <td>0.139136</td>\n",
              "      <td>C</td>\n",
              "      <td>Mrs</td>\n",
              "      <td>0.1</td>\n",
              "    </tr>\n",
              "    <tr>\n",
              "      <th>2</th>\n",
              "      <td>1</td>\n",
              "      <td>3</td>\n",
              "      <td>female</td>\n",
              "      <td>0.321438</td>\n",
              "      <td>0.015469</td>\n",
              "      <td>S</td>\n",
              "      <td>Miss</td>\n",
              "      <td>0.0</td>\n",
              "    </tr>\n",
              "    <tr>\n",
              "      <th>3</th>\n",
              "      <td>1</td>\n",
              "      <td>1</td>\n",
              "      <td>female</td>\n",
              "      <td>0.434531</td>\n",
              "      <td>0.103644</td>\n",
              "      <td>S</td>\n",
              "      <td>Mrs</td>\n",
              "      <td>0.1</td>\n",
              "    </tr>\n",
              "    <tr>\n",
              "      <th>4</th>\n",
              "      <td>0</td>\n",
              "      <td>3</td>\n",
              "      <td>male</td>\n",
              "      <td>0.434531</td>\n",
              "      <td>0.015713</td>\n",
              "      <td>S</td>\n",
              "      <td>Mr</td>\n",
              "      <td>0.0</td>\n",
              "    </tr>\n",
              "    <tr>\n",
              "      <th>...</th>\n",
              "      <td>...</td>\n",
              "      <td>...</td>\n",
              "      <td>...</td>\n",
              "      <td>...</td>\n",
              "      <td>...</td>\n",
              "      <td>...</td>\n",
              "      <td>...</td>\n",
              "      <td>...</td>\n",
              "    </tr>\n",
              "    <tr>\n",
              "      <th>886</th>\n",
              "      <td>0</td>\n",
              "      <td>2</td>\n",
              "      <td>male</td>\n",
              "      <td>0.334004</td>\n",
              "      <td>0.025374</td>\n",
              "      <td>S</td>\n",
              "      <td>Rev</td>\n",
              "      <td>0.0</td>\n",
              "    </tr>\n",
              "    <tr>\n",
              "      <th>887</th>\n",
              "      <td>1</td>\n",
              "      <td>1</td>\n",
              "      <td>female</td>\n",
              "      <td>0.233476</td>\n",
              "      <td>0.058556</td>\n",
              "      <td>S</td>\n",
              "      <td>Miss</td>\n",
              "      <td>0.0</td>\n",
              "    </tr>\n",
              "    <tr>\n",
              "      <th>888</th>\n",
              "      <td>0</td>\n",
              "      <td>3</td>\n",
              "      <td>female</td>\n",
              "      <td>0.367921</td>\n",
              "      <td>0.045771</td>\n",
              "      <td>S</td>\n",
              "      <td>Miss</td>\n",
              "      <td>0.3</td>\n",
              "    </tr>\n",
              "    <tr>\n",
              "      <th>889</th>\n",
              "      <td>1</td>\n",
              "      <td>1</td>\n",
              "      <td>male</td>\n",
              "      <td>0.321438</td>\n",
              "      <td>0.058556</td>\n",
              "      <td>C</td>\n",
              "      <td>Mr</td>\n",
              "      <td>0.0</td>\n",
              "    </tr>\n",
              "    <tr>\n",
              "      <th>890</th>\n",
              "      <td>0</td>\n",
              "      <td>3</td>\n",
              "      <td>male</td>\n",
              "      <td>0.396833</td>\n",
              "      <td>0.015127</td>\n",
              "      <td>Q</td>\n",
              "      <td>Mr</td>\n",
              "      <td>0.0</td>\n",
              "    </tr>\n",
              "  </tbody>\n",
              "</table>\n",
              "<p>891 rows × 8 columns</p>\n",
              "</div>"
            ],
            "text/plain": [
              "     Survived  Pclass     Sex  ...  Embarked  title Family_members\n",
              "0           0       3    male  ...         S     Mr            0.1\n",
              "1           1       1  female  ...         C    Mrs            0.1\n",
              "2           1       3  female  ...         S   Miss            0.0\n",
              "3           1       1  female  ...         S    Mrs            0.1\n",
              "4           0       3    male  ...         S     Mr            0.0\n",
              "..        ...     ...     ...  ...       ...    ...            ...\n",
              "886         0       2    male  ...         S    Rev            0.0\n",
              "887         1       1  female  ...         S   Miss            0.0\n",
              "888         0       3  female  ...         S   Miss            0.3\n",
              "889         1       1    male  ...         C     Mr            0.0\n",
              "890         0       3    male  ...         Q     Mr            0.0\n",
              "\n",
              "[891 rows x 8 columns]"
            ]
          },
          "metadata": {},
          "execution_count": 371
        }
      ]
    },
    {
      "cell_type": "markdown",
      "metadata": {
        "id": "8KXM4Xe0m-bj"
      },
      "source": [
        "### 5.e. One hot encoding\n",
        "Machine Learning models do not understand strings <br>\n",
        "They understand numbers<br>\n",
        "That is one of the reasons why we one hot encode few columns<br>\n",
        "\n",
        "- refer this link for more information : https://datagy.io/pandas-get-dummies/\n",
        "- you can use this or directly look into pandas get_dummies() method to implement this"
      ]
    },
    {
      "cell_type": "markdown",
      "metadata": {
        "id": "1IIsD-KcpVBc"
      },
      "source": [
        "- columns to apply one_hot encoding on\n",
        " - Pclass\n",
        " - Sex\n",
        " - Title\n",
        " - Embarked\n"
      ]
    },
    {
      "cell_type": "code",
      "metadata": {
        "id": "Y60WNgwLjrmn",
        "colab": {
          "base_uri": "https://localhost:8080/"
        },
        "outputId": "19014b2d-5b54-48d9-ab51-e230949a93a6"
      },
      "source": [
        "#write code here\n",
        "train_df['Sex'] = pd.get_dummies(train_df['Sex'])\n",
        "train_df['Pclass']=pd.get_dummies(train_df['Pclass'])\n",
        "train_df[\"title\"] = pd.get_dummies(train_df['title'])\n",
        "train_df[\"Embarked\"]=pd.get_dummies(train_df[\"Embarked\"])\n",
        "train_df['Sex']"
      ],
      "execution_count": 372,
      "outputs": [
        {
          "output_type": "execute_result",
          "data": {
            "text/plain": [
              "0      0\n",
              "1      1\n",
              "2      1\n",
              "3      1\n",
              "4      0\n",
              "      ..\n",
              "886    0\n",
              "887    1\n",
              "888    1\n",
              "889    0\n",
              "890    0\n",
              "Name: Sex, Length: 891, dtype: uint8"
            ]
          },
          "metadata": {},
          "execution_count": 372
        }
      ]
    },
    {
      "cell_type": "code",
      "metadata": {
        "id": "wSrcusWGK0CZ"
      },
      "source": [
        ""
      ],
      "execution_count": 372,
      "outputs": []
    },
    {
      "cell_type": "code",
      "metadata": {
        "id": "r4wogy53paiL",
        "colab": {
          "base_uri": "https://localhost:8080/",
          "height": 423
        },
        "outputId": "8b42dc05-4c43-469c-b495-576231d4a482"
      },
      "source": [
        "#show the final dataframe here\n",
        "train_df"
      ],
      "execution_count": 373,
      "outputs": [
        {
          "output_type": "execute_result",
          "data": {
            "text/html": [
              "<div>\n",
              "<style scoped>\n",
              "    .dataframe tbody tr th:only-of-type {\n",
              "        vertical-align: middle;\n",
              "    }\n",
              "\n",
              "    .dataframe tbody tr th {\n",
              "        vertical-align: top;\n",
              "    }\n",
              "\n",
              "    .dataframe thead th {\n",
              "        text-align: right;\n",
              "    }\n",
              "</style>\n",
              "<table border=\"1\" class=\"dataframe\">\n",
              "  <thead>\n",
              "    <tr style=\"text-align: right;\">\n",
              "      <th></th>\n",
              "      <th>Survived</th>\n",
              "      <th>Pclass</th>\n",
              "      <th>Sex</th>\n",
              "      <th>Age</th>\n",
              "      <th>Fare</th>\n",
              "      <th>Embarked</th>\n",
              "      <th>title</th>\n",
              "      <th>Family_members</th>\n",
              "    </tr>\n",
              "  </thead>\n",
              "  <tbody>\n",
              "    <tr>\n",
              "      <th>0</th>\n",
              "      <td>0</td>\n",
              "      <td>0</td>\n",
              "      <td>0</td>\n",
              "      <td>0.271174</td>\n",
              "      <td>0.014151</td>\n",
              "      <td>0</td>\n",
              "      <td>0</td>\n",
              "      <td>0.1</td>\n",
              "    </tr>\n",
              "    <tr>\n",
              "      <th>1</th>\n",
              "      <td>1</td>\n",
              "      <td>1</td>\n",
              "      <td>1</td>\n",
              "      <td>0.472229</td>\n",
              "      <td>0.139136</td>\n",
              "      <td>1</td>\n",
              "      <td>0</td>\n",
              "      <td>0.1</td>\n",
              "    </tr>\n",
              "    <tr>\n",
              "      <th>2</th>\n",
              "      <td>1</td>\n",
              "      <td>0</td>\n",
              "      <td>1</td>\n",
              "      <td>0.321438</td>\n",
              "      <td>0.015469</td>\n",
              "      <td>0</td>\n",
              "      <td>0</td>\n",
              "      <td>0.0</td>\n",
              "    </tr>\n",
              "    <tr>\n",
              "      <th>3</th>\n",
              "      <td>1</td>\n",
              "      <td>1</td>\n",
              "      <td>1</td>\n",
              "      <td>0.434531</td>\n",
              "      <td>0.103644</td>\n",
              "      <td>0</td>\n",
              "      <td>0</td>\n",
              "      <td>0.1</td>\n",
              "    </tr>\n",
              "    <tr>\n",
              "      <th>4</th>\n",
              "      <td>0</td>\n",
              "      <td>0</td>\n",
              "      <td>0</td>\n",
              "      <td>0.434531</td>\n",
              "      <td>0.015713</td>\n",
              "      <td>0</td>\n",
              "      <td>0</td>\n",
              "      <td>0.0</td>\n",
              "    </tr>\n",
              "    <tr>\n",
              "      <th>...</th>\n",
              "      <td>...</td>\n",
              "      <td>...</td>\n",
              "      <td>...</td>\n",
              "      <td>...</td>\n",
              "      <td>...</td>\n",
              "      <td>...</td>\n",
              "      <td>...</td>\n",
              "      <td>...</td>\n",
              "    </tr>\n",
              "    <tr>\n",
              "      <th>886</th>\n",
              "      <td>0</td>\n",
              "      <td>0</td>\n",
              "      <td>0</td>\n",
              "      <td>0.334004</td>\n",
              "      <td>0.025374</td>\n",
              "      <td>0</td>\n",
              "      <td>0</td>\n",
              "      <td>0.0</td>\n",
              "    </tr>\n",
              "    <tr>\n",
              "      <th>887</th>\n",
              "      <td>1</td>\n",
              "      <td>1</td>\n",
              "      <td>1</td>\n",
              "      <td>0.233476</td>\n",
              "      <td>0.058556</td>\n",
              "      <td>0</td>\n",
              "      <td>0</td>\n",
              "      <td>0.0</td>\n",
              "    </tr>\n",
              "    <tr>\n",
              "      <th>888</th>\n",
              "      <td>0</td>\n",
              "      <td>0</td>\n",
              "      <td>1</td>\n",
              "      <td>0.367921</td>\n",
              "      <td>0.045771</td>\n",
              "      <td>0</td>\n",
              "      <td>0</td>\n",
              "      <td>0.3</td>\n",
              "    </tr>\n",
              "    <tr>\n",
              "      <th>889</th>\n",
              "      <td>1</td>\n",
              "      <td>1</td>\n",
              "      <td>0</td>\n",
              "      <td>0.321438</td>\n",
              "      <td>0.058556</td>\n",
              "      <td>1</td>\n",
              "      <td>0</td>\n",
              "      <td>0.0</td>\n",
              "    </tr>\n",
              "    <tr>\n",
              "      <th>890</th>\n",
              "      <td>0</td>\n",
              "      <td>0</td>\n",
              "      <td>0</td>\n",
              "      <td>0.396833</td>\n",
              "      <td>0.015127</td>\n",
              "      <td>0</td>\n",
              "      <td>0</td>\n",
              "      <td>0.0</td>\n",
              "    </tr>\n",
              "  </tbody>\n",
              "</table>\n",
              "<p>891 rows × 8 columns</p>\n",
              "</div>"
            ],
            "text/plain": [
              "     Survived  Pclass  Sex       Age      Fare  Embarked  title  Family_members\n",
              "0           0       0    0  0.271174  0.014151         0      0             0.1\n",
              "1           1       1    1  0.472229  0.139136         1      0             0.1\n",
              "2           1       0    1  0.321438  0.015469         0      0             0.0\n",
              "3           1       1    1  0.434531  0.103644         0      0             0.1\n",
              "4           0       0    0  0.434531  0.015713         0      0             0.0\n",
              "..        ...     ...  ...       ...       ...       ...    ...             ...\n",
              "886         0       0    0  0.334004  0.025374         0      0             0.0\n",
              "887         1       1    1  0.233476  0.058556         0      0             0.0\n",
              "888         0       0    1  0.367921  0.045771         0      0             0.3\n",
              "889         1       1    0  0.321438  0.058556         1      0             0.0\n",
              "890         0       0    0  0.396833  0.015127         0      0             0.0\n",
              "\n",
              "[891 rows x 8 columns]"
            ]
          },
          "metadata": {},
          "execution_count": 373
        }
      ]
    },
    {
      "cell_type": "markdown",
      "metadata": {
        "id": "QhGsnsY4puYz"
      },
      "source": [
        "End of Preprocessing"
      ]
    },
    {
      "cell_type": "code",
      "metadata": {
        "id": "Wa1zcX8_pyk5"
      },
      "source": [
        ""
      ],
      "execution_count": 373,
      "outputs": []
    }
  ]
}